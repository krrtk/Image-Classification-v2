{
 "cells": [
  {
   "cell_type": "code",
   "execution_count": null,
   "id": "8cacd13a-dc7d-4e5d-9331-b4a7db8cebda",
   "metadata": {},
   "outputs": [],
   "source": []
  }
 ],
 "metadata": {
  "kernelspec": {
   "display_name": "",
   "name": ""
  },
  "language_info": {
   "name": ""
  }
 },
 "nbformat": 4,
 "nbformat_minor": 5
}
